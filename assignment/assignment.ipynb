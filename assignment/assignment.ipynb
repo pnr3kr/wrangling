{
  "cells": [
    {
      "cell_type": "markdown",
      "id": "13ad028b-72b7-43ed-aa78-96fd4e518040",
      "metadata": {
        "id": "13ad028b-72b7-43ed-aa78-96fd4e518040"
      },
      "source": [
        "# Assignment: Data Wrangling\n",
        "### `! git clone https://github.com/ds4e/wrangling`\n",
        "### Do Q1 and Q2, and either Q3 or Q4, for a total of 3 questions."
      ]
    },
    {
      "cell_type": "markdown",
      "id": "da879ea7-8aac-48a3-b6c2-daea56d2e072",
      "metadata": {
        "id": "da879ea7-8aac-48a3-b6c2-daea56d2e072"
      },
      "source": [
        "**Q1.** This question provides some practice cleaning variables which have common problems.\n",
        "1. Numeric variable: For `./data/airbnb_hw.csv`, clean the `Price` variable as well as you can, and explain the choices you make. How many missing values do you end up with? (Hint: What happens to the formatting when a price goes over 999 dollars, say from 675 to 1,112?)\n",
        "2. Categorical variable: For the Minnesota police use of for data, `./data/mn_police_use_of_force.csv`, clean the `subject_injury` variable, handling the NA's; this gives a value `Yes` when a person was injured by police, and `No` when no injury occurred. What proportion of the values are missing? Is this a concern? Cross-tabulate your cleaned `subject_injury` variable with the `force_type` variable. Are there any patterns regarding when the data are missing? \n",
        "3. Dummy variable: For the pretrial data covered in the lecture, clean the `WhetherDefendantWasReleasedPretrial` variable as well as you can, and, in particular, replace missing values with `np.nan`.\n",
        "4. Missing values, not at random: For the pretrial data covered in the lecture, clean the `ImposedSentenceAllChargeInContactEvent` variable as well as you can, and explain the choices you make. (Hint: Look at the `SentenceTypeAllChargesAtConvictionInContactEvent` variable.)"
      ]
    },
    {
      "cell_type": "markdown",
      "id": "ea0efde2",
      "metadata": {},
      "source": [
        "# Question 1. \n",
        "1. Numeric variable: For `./data/airbnb_hw.csv`, clean the `Price` variable as well as you can, and explain the choices you make. How many missing values do you end up with? (Hint: What happens to the formatting when a price goes over 999 dollars, say from 675 to 1,112?)"
      ]
    },
    {
      "cell_type": "code",
      "execution_count": 1,
      "id": "2c548100",
      "metadata": {},
      "outputs": [
        {
          "name": "stdout",
          "output_type": "stream",
          "text": [
            "Number of missing values in \"Price\": 0\n",
            "   Price\n",
            "0  10000\n",
            "1   8000\n",
            "2   6500\n",
            "3   5999\n",
            "4   5000\n"
          ]
        }
      ],
      "source": [
        "# Import libraries\n",
        "import pandas as pd\n",
        "\n",
        "# Read the csv and convert to DataFrame\n",
        "airbnb_data = pd.read_csv(\"data/airbnb_hw.csv\")\n",
        "airbnb_df = pd.DataFrame(airbnb_data)\n",
        "\n",
        "# The \"Price\" values turn to strings for values greater than 999 with a comma to separate the last three numerical digits\n",
        "# Remove commas and turn strings to numeric values\n",
        "airbnb_df[\"Price\"] = pd.to_numeric(airbnb_df[\"Price\"].str.replace(\",\", \"\"), errors=\"coerce\")\n",
        "\n",
        "# Sort price in descending order and reset index of values according to this\n",
        "airbnb_price_sorted = airbnb_df.sort_values(by = \"Price\", ascending = False).reset_index(drop = True)\n",
        "airbnb_price_sorted.head(20)\n",
        "\n",
        "# Find the sum of missing_values\n",
        "missing_price_values = airbnb_data[\"Price\"].isna().sum()\n",
        "\n",
        "# Print num of missing values & First 5 values in \"Price\" Column\n",
        "print('Number of missing values in \"Price\":', missing_price_values)\n",
        "print(airbnb_price_sorted[[\"Price\"]].head(5))\n"
      ]
    },
    {
      "cell_type": "markdown",
      "id": "6cf26614",
      "metadata": {},
      "source": [
        "2. Categorical variable: For the Minnesota police use of for data, `./data/mn_police_use_of_force.csv`, clean the `subject_injury` variable, handling the NA's; this gives a value `Yes` when a person was injured by police, and `No` when no injury occurred. What proportion of the values are missing? Is this a concern? Cross-tabulate your cleaned `subject_injury` variable with the `force_type` variable. Are there any patterns regarding when the data are missing? "
      ]
    },
    {
      "cell_type": "code",
      "execution_count": 2,
      "id": "5dabf30f",
      "metadata": {},
      "outputs": [
        {
          "name": "stdout",
          "output_type": "stream",
          "text": [
            "Proportion of values that are missing from \"subject_injury\" variable: 0.762\n"
          ]
        }
      ],
      "source": [
        "# Read the csv and convert to DataFrame\n",
        "mn_police_data = pd.read_csv(\"data/mn_police_use_of_force.csv\")\n",
        "mn_df = pd.DataFrame(mn_police_data)\n",
        "\n",
        "# Changing all na values in \"subject_injury\" to \"Unkown\"\n",
        "mn_df[\"subject_injury\"] = mn_df[\"subject_injury\"].fillna(\"Unknown\")\n",
        "\n",
        "# Calculate the total numbers of \"Unknown\", \"Yes\", and \"No\" in \"subject_injury\"\n",
        "unknown_count = (mn_df[\"subject_injury\"] == \"Unknown\").sum()\n",
        "no_count = (mn_df[\"subject_injury\"] == \"No\").sum()\n",
        "yes_count = (mn_df[\"subject_injury\"] == \"Yes\").sum()\n",
        "\n",
        "# Find the proportion of missing values from \"subject_injury\"\n",
        "missing_values_prop = unknown_count/(unknown_count + no_count + yes_count)\n",
        "print('Proportion of values that are missing from \"subject_injury\" variable:', missing_values_prop.round(3))\n",
        "# This value of 0.762 is very concerning as over 3/4 of the values are unknown as whether a person was injured or not by police"
      ]
    },
    {
      "cell_type": "code",
      "execution_count": 3,
      "id": "5dc782fc",
      "metadata": {},
      "outputs": [
        {
          "data": {
            "text/html": [
              "<div>\n",
              "<style scoped>\n",
              "    .dataframe tbody tr th:only-of-type {\n",
              "        vertical-align: middle;\n",
              "    }\n",
              "\n",
              "    .dataframe tbody tr th {\n",
              "        vertical-align: top;\n",
              "    }\n",
              "\n",
              "    .dataframe thead th {\n",
              "        text-align: right;\n",
              "    }\n",
              "</style>\n",
              "<table border=\"1\" class=\"dataframe\">\n",
              "  <thead>\n",
              "    <tr style=\"text-align: right;\">\n",
              "      <th>force_type</th>\n",
              "      <th>Baton</th>\n",
              "      <th>Bodily Force</th>\n",
              "      <th>Chemical Irritant</th>\n",
              "      <th>Firearm</th>\n",
              "      <th>Gun Point Display</th>\n",
              "      <th>Improvised Weapon</th>\n",
              "      <th>Less Lethal</th>\n",
              "      <th>Less Lethal Projectile</th>\n",
              "      <th>Maximal Restraint Technique</th>\n",
              "      <th>Police K9 Bite</th>\n",
              "      <th>Taser</th>\n",
              "    </tr>\n",
              "    <tr>\n",
              "      <th>subject_injury</th>\n",
              "      <th></th>\n",
              "      <th></th>\n",
              "      <th></th>\n",
              "      <th></th>\n",
              "      <th></th>\n",
              "      <th></th>\n",
              "      <th></th>\n",
              "      <th></th>\n",
              "      <th></th>\n",
              "      <th></th>\n",
              "      <th></th>\n",
              "    </tr>\n",
              "  </thead>\n",
              "  <tbody>\n",
              "    <tr>\n",
              "      <th>No</th>\n",
              "      <td>0</td>\n",
              "      <td>1093</td>\n",
              "      <td>131</td>\n",
              "      <td>2</td>\n",
              "      <td>33</td>\n",
              "      <td>34</td>\n",
              "      <td>0</td>\n",
              "      <td>1</td>\n",
              "      <td>0</td>\n",
              "      <td>2</td>\n",
              "      <td>150</td>\n",
              "    </tr>\n",
              "    <tr>\n",
              "      <th>Unknown</th>\n",
              "      <td>2</td>\n",
              "      <td>7051</td>\n",
              "      <td>1421</td>\n",
              "      <td>0</td>\n",
              "      <td>27</td>\n",
              "      <td>74</td>\n",
              "      <td>87</td>\n",
              "      <td>0</td>\n",
              "      <td>170</td>\n",
              "      <td>31</td>\n",
              "      <td>985</td>\n",
              "    </tr>\n",
              "    <tr>\n",
              "      <th>Yes</th>\n",
              "      <td>2</td>\n",
              "      <td>1286</td>\n",
              "      <td>41</td>\n",
              "      <td>0</td>\n",
              "      <td>44</td>\n",
              "      <td>40</td>\n",
              "      <td>0</td>\n",
              "      <td>2</td>\n",
              "      <td>0</td>\n",
              "      <td>44</td>\n",
              "      <td>172</td>\n",
              "    </tr>\n",
              "  </tbody>\n",
              "</table>\n",
              "</div>"
            ],
            "text/plain": [
              "force_type      Baton  Bodily Force  Chemical Irritant  Firearm  \\\n",
              "subject_injury                                                    \n",
              "No                  0          1093                131        2   \n",
              "Unknown             2          7051               1421        0   \n",
              "Yes                 2          1286                 41        0   \n",
              "\n",
              "force_type      Gun Point Display  Improvised Weapon  Less Lethal  \\\n",
              "subject_injury                                                      \n",
              "No                             33                 34            0   \n",
              "Unknown                        27                 74           87   \n",
              "Yes                            44                 40            0   \n",
              "\n",
              "force_type      Less Lethal Projectile  Maximal Restraint Technique  \\\n",
              "subject_injury                                                        \n",
              "No                                   1                            0   \n",
              "Unknown                              0                          170   \n",
              "Yes                                  2                            0   \n",
              "\n",
              "force_type      Police K9 Bite  Taser  \n",
              "subject_injury                         \n",
              "No                           2    150  \n",
              "Unknown                     31    985  \n",
              "Yes                         44    172  "
            ]
          },
          "metadata": {},
          "output_type": "display_data"
        }
      ],
      "source": [
        "# Cross tabulate \"subject_injury\" and \"force\" type\n",
        "cross_tab_subject_injury_force_type = pd.crosstab(mn_df[\"subject_injury\"], mn_df[\"force_type\"])\n",
        "display(cross_tab_subject_injury_force_type)\n",
        "\n",
        "# Oftentimes for use of less-severe force, \"subject_injury\" is \"Unknown\" whereas more severe force types don't show as many \"Unknown\" records. There could be possible reporting bias done by the police officers or they may not be required by the pd to report this. "
      ]
    },
    {
      "cell_type": "markdown",
      "id": "f3707b34",
      "metadata": {},
      "source": [
        "3. Dummy variable: For the pretrial data covered in the lecture, clean the `WhetherDefendantWasReleasedPretrial` variable as well as you can, and, in particular, replace missing values with `np.nan`."
      ]
    },
    {
      "cell_type": "code",
      "execution_count": 4,
      "id": "47995482",
      "metadata": {},
      "outputs": [
        {
          "name": "stdout",
          "output_type": "stream",
          "text": [
            "[9 0 1]\n",
            "WhetherDefendantWasReleasedPretrial\n",
            "Released        19154\n",
            "Not Released     3801\n",
            "Unknown            31\n",
            "Name: count, dtype: int64\n"
          ]
        }
      ],
      "source": [
        "# Load the Parquet justice_data file and convert to df\n",
        "justice_data = pd.read_parquet(\"data/justice_data.parquet\")\n",
        "justice_data_df = pd.DataFrame(justice_data)\n",
        "\n",
        "# Clean \"WhetherDefendantWasReleasedPretrial\" variable replacing 1 for \"Released\", 0 for \"Not Released\", 9 for \"Unknown\" and missing values with \"np.nan\"\n",
        "# There were no missing values as only 0,1, and 9 were unique values\n",
        "print(justice_data_df[\"WhetherDefendantWasReleasedPretrial\"].unique())\n",
        "\n",
        "justice_data_df[\"WhetherDefendantWasReleasedPretrial\"] = justice_data_df[\"WhetherDefendantWasReleasedPretrial\"].replace({1: \"Released\", 0: \"Not Released\", 9 : \"Unknown\", \"\" : \"np.nan\"})\n",
        "justice_data_df[\"WhetherDefendantWasReleasedPretrial\"] = justice_data_df[\"WhetherDefendantWasReleasedPretrial\"].replace(\"\", \"np.nan\")\n",
        "\n",
        "print(justice_data_df[\"WhetherDefendantWasReleasedPretrial\"].value_counts())\n",
        "\n",
        "\n",
        "\n"
      ]
    },
    {
      "cell_type": "markdown",
      "id": "29ae5fda",
      "metadata": {},
      "source": [
        "4. Missing values, not at random: For the pretrial data covered in the lecture, clean the `ImposedSentenceAllChargeInContactEvent` variable as well as you can, and explain the choices you make. (Hint: Look at the `SentenceTypeAllChargesAtConvictionInContactEvent` variable.)"
      ]
    },
    {
      "cell_type": "code",
      "execution_count": 5,
      "id": "70c7c24e",
      "metadata": {},
      "outputs": [
        {
          "name": "stdout",
          "output_type": "stream",
          "text": [
            "0     0\n",
            "1    60\n",
            "2    12\n",
            "3     1\n",
            "4     0\n",
            "5    12\n",
            "6    36\n",
            "7     6\n",
            "8    24\n",
            "9    12\n",
            "Name: ImposedSentenceAllChargeInContactEvent, dtype: Int64\n"
          ]
        }
      ],
      "source": [
        "# Changed the \"ImposedSentenceAllChargeInContactEvent\" to numeric from object, rounded all float values to closest numeric value, and changed the type to int\n",
        "justice_data_df[\"ImposedSentenceAllChargeInContactEvent\"] = pd.to_numeric(justice_data_df[\"ImposedSentenceAllChargeInContactEvent\"], errors = \"coerce\").round().astype(\"Int64\")\n",
        "\n",
        "# Filled in all NA values with 0\n",
        "justice_data_df[\"ImposedSentenceAllChargeInContactEvent\"] = justice_data_df[\"ImposedSentenceAllChargeInContactEvent\"].fillna(0)\n",
        "\n",
        "print(justice_data_df[\"ImposedSentenceAllChargeInContactEvent\"].head(10))"
      ]
    },
    {
      "cell_type": "markdown",
      "id": "5a60a44e",
      "metadata": {},
      "source": [
        "# Q2.\n",
        "\n",
        "1. Open the shark attack file using Pandas. It is probably not a csv file, so `read_csv` won't work."
      ]
    },
    {
      "cell_type": "code",
      "execution_count": 6,
      "id": "34841e44",
      "metadata": {},
      "outputs": [],
      "source": [
        "# pip install openpyxl xlrd"
      ]
    },
    {
      "cell_type": "code",
      "execution_count": 7,
      "id": "7737a26c",
      "metadata": {},
      "outputs": [
        {
          "name": "stdout",
          "output_type": "stream",
          "text": [
            "(6992, 23)\n"
          ]
        }
      ],
      "source": [
        "# Read the xls and convert to DataFrame\n",
        "sharks_data = pd.read_excel(\"data/shark_attacks.xls\")\n",
        "sharks_df = pd.DataFrame(sharks_data)\n",
        "print(sharks_df.shape)"
      ]
    },
    {
      "cell_type": "markdown",
      "metadata": {},
      "source": [
        "2. Drop any columns that do not contain data."
      ]
    },
    {
      "cell_type": "code",
      "execution_count": 8,
      "id": "dda89ae9",
      "metadata": {},
      "outputs": [
        {
          "data": {
            "text/html": [
              "<div>\n",
              "<style scoped>\n",
              "    .dataframe tbody tr th:only-of-type {\n",
              "        vertical-align: middle;\n",
              "    }\n",
              "\n",
              "    .dataframe tbody tr th {\n",
              "        vertical-align: top;\n",
              "    }\n",
              "\n",
              "    .dataframe thead th {\n",
              "        text-align: right;\n",
              "    }\n",
              "</style>\n",
              "<table border=\"1\" class=\"dataframe\">\n",
              "  <thead>\n",
              "    <tr style=\"text-align: right;\">\n",
              "      <th></th>\n",
              "      <th>Date</th>\n",
              "      <th>Year</th>\n",
              "      <th>Type</th>\n",
              "      <th>Country</th>\n",
              "      <th>State</th>\n",
              "      <th>Location</th>\n",
              "      <th>Activity</th>\n",
              "      <th>Name</th>\n",
              "      <th>Sex</th>\n",
              "      <th>Age</th>\n",
              "      <th>Injury</th>\n",
              "      <th>Fatal Y/N</th>\n",
              "      <th>Time</th>\n",
              "      <th>Species</th>\n",
              "      <th>Source</th>\n",
              "    </tr>\n",
              "  </thead>\n",
              "  <tbody>\n",
              "    <tr>\n",
              "      <th>0</th>\n",
              "      <td>2025-01-23 00:00:00</td>\n",
              "      <td>2025.0</td>\n",
              "      <td>Unprovoked</td>\n",
              "      <td>Australia</td>\n",
              "      <td>Western Australia</td>\n",
              "      <td>Shipwreck Cove</td>\n",
              "      <td>Bathing</td>\n",
              "      <td>Boy</td>\n",
              "      <td>M</td>\n",
              "      <td>12</td>\n",
              "      <td>Minor bite to lower body</td>\n",
              "      <td>N</td>\n",
              "      <td>1711hrs</td>\n",
              "      <td>Not stated</td>\n",
              "      <td>Bob Myatt GSAF</td>\n",
              "    </tr>\n",
              "    <tr>\n",
              "      <th>1</th>\n",
              "      <td>2025-01-22 00:00:00</td>\n",
              "      <td>2025.0</td>\n",
              "      <td>Unprovoked</td>\n",
              "      <td>Australia</td>\n",
              "      <td>Western Australia</td>\n",
              "      <td>Cheynes beach</td>\n",
              "      <td>Surfing</td>\n",
              "      <td>Dale Kittow</td>\n",
              "      <td>M</td>\n",
              "      <td>37</td>\n",
              "      <td>None - chunk of surfboard  bitten out</td>\n",
              "      <td>N</td>\n",
              "      <td>1600hrs</td>\n",
              "      <td>Bronze whaler</td>\n",
              "      <td>Bob Myatt GSAF</td>\n",
              "    </tr>\n",
              "    <tr>\n",
              "      <th>2</th>\n",
              "      <td>2025-01-11 00:00:00</td>\n",
              "      <td>2025.0</td>\n",
              "      <td>Provoked</td>\n",
              "      <td>USA</td>\n",
              "      <td>Hawaii</td>\n",
              "      <td>Off Haleiwa Boat Harbour Oahu</td>\n",
              "      <td>Diving</td>\n",
              "      <td>Male not stated was a dive tour worker</td>\n",
              "      <td>M</td>\n",
              "      <td>23</td>\n",
              "      <td>Bitten on the arm</td>\n",
              "      <td>N</td>\n",
              "      <td>1340hrs</td>\n",
              "      <td>Not stated</td>\n",
              "      <td>Kevin McMurray Trackingsharks.com</td>\n",
              "    </tr>\n",
              "    <tr>\n",
              "      <th>3</th>\n",
              "      <td>2025-01-02 00:00:00</td>\n",
              "      <td>2025.0</td>\n",
              "      <td>Unprovoked</td>\n",
              "      <td>New Caledonia</td>\n",
              "      <td>Grande Terre</td>\n",
              "      <td>Islet of Kendek near Koumac</td>\n",
              "      <td>Spearfishing</td>\n",
              "      <td>Robert Cuewapuru</td>\n",
              "      <td>M</td>\n",
              "      <td>40</td>\n",
              "      <td>Severe arm injury and delay in medical treatme...</td>\n",
              "      <td>Y</td>\n",
              "      <td>1615hr</td>\n",
              "      <td>Reportedly Tiger or Bull shark</td>\n",
              "      <td>Johannes Marchand Todd Smith</td>\n",
              "    </tr>\n",
              "    <tr>\n",
              "      <th>4</th>\n",
              "      <td>2025-01-02 00:00:00</td>\n",
              "      <td>2025.0</td>\n",
              "      <td>Unprovoked</td>\n",
              "      <td>Australia</td>\n",
              "      <td>South Australia</td>\n",
              "      <td>Granites Beach near Westall Streaky Bay</td>\n",
              "      <td>Surfing</td>\n",
              "      <td>Lance Appleby</td>\n",
              "      <td>M</td>\n",
              "      <td>28</td>\n",
              "      <td>Body not recovered</td>\n",
              "      <td>Y</td>\n",
              "      <td>1710hr</td>\n",
              "      <td>Great White Shart estimated 4.8m 16 ft</td>\n",
              "      <td>Glen Folkard: Simon De Marchi News.com.au: The...</td>\n",
              "    </tr>\n",
              "  </tbody>\n",
              "</table>\n",
              "</div>"
            ],
            "text/plain": [
              "                  Date    Year        Type        Country              State  \\\n",
              "0  2025-01-23 00:00:00  2025.0  Unprovoked      Australia  Western Australia   \n",
              "1  2025-01-22 00:00:00  2025.0  Unprovoked      Australia  Western Australia   \n",
              "2  2025-01-11 00:00:00  2025.0    Provoked            USA             Hawaii   \n",
              "3  2025-01-02 00:00:00  2025.0  Unprovoked  New Caledonia       Grande Terre   \n",
              "4  2025-01-02 00:00:00  2025.0  Unprovoked      Australia    South Australia   \n",
              "\n",
              "                                  Location      Activity  \\\n",
              "0                           Shipwreck Cove       Bathing   \n",
              "1                           Cheynes beach        Surfing   \n",
              "2            Off Haleiwa Boat Harbour Oahu        Diving   \n",
              "3              Islet of Kendek near Koumac  Spearfishing   \n",
              "4  Granites Beach near Westall Streaky Bay       Surfing   \n",
              "\n",
              "                                     Name Sex Age  \\\n",
              "0                                    Boy    M  12   \n",
              "1                             Dale Kittow   M  37   \n",
              "2  Male not stated was a dive tour worker   M  23   \n",
              "3                        Robert Cuewapuru   M  40   \n",
              "4                           Lance Appleby   M  28   \n",
              "\n",
              "                                              Injury Fatal Y/N     Time  \\\n",
              "0                           Minor bite to lower body         N  1711hrs   \n",
              "1              None - chunk of surfboard  bitten out         N  1600hrs   \n",
              "2                                  Bitten on the arm         N  1340hrs   \n",
              "3  Severe arm injury and delay in medical treatme...         Y   1615hr   \n",
              "4                                 Body not recovered         Y   1710hr   \n",
              "\n",
              "                                 Species   \\\n",
              "0                              Not stated   \n",
              "1                           Bronze whaler   \n",
              "2                              Not stated   \n",
              "3          Reportedly Tiger or Bull shark   \n",
              "4  Great White Shart estimated 4.8m 16 ft   \n",
              "\n",
              "                                              Source  \n",
              "0                                     Bob Myatt GSAF  \n",
              "1                                     Bob Myatt GSAF  \n",
              "2                  Kevin McMurray Trackingsharks.com  \n",
              "3                      Johannes Marchand Todd Smith   \n",
              "4  Glen Folkard: Simon De Marchi News.com.au: The...  "
            ]
          },
          "execution_count": 8,
          "metadata": {},
          "output_type": "execute_result"
        }
      ],
      "source": [
        "sharks_df = sharks_df.drop(columns=[\"pdf\", \"href formula\", \"href\", \"Case Number\", \"Case Number.1\", \"original order\", \"Unnamed: 21\", \"Unnamed: 22\"])\n",
        "\n",
        "sharks_df.head(5)"
      ]
    },
    {
      "cell_type": "markdown",
      "id": "407da1e9",
      "metadata": {},
      "source": [
        "3. Clean the year variable. Describe the range of values you see. Filter the rows to focus on attacks since 1940. Are attacks increasing, decreasing, or remaining constant over time?"
      ]
    },
    {
      "cell_type": "code",
      "execution_count": 19,
      "id": "b4e05a44",
      "metadata": {},
      "outputs": [
        {
          "name": "stdout",
          "output_type": "stream",
          "text": [
            "Year\n",
            "1940    24\n",
            "1941    27\n",
            "1942    41\n",
            "1943    28\n",
            "1944    31\n",
            "dtype: int64\n",
            "Year\n",
            "2022     98\n",
            "2023    109\n",
            "2024     49\n",
            "2025      6\n",
            "2026      1\n",
            "dtype: int64\n"
          ]
        }
      ],
      "source": [
        "sharks_df[\"Year\"] = pd.to_numeric(sharks_df[\"Year\"]).dropna().round().astype(int)\n",
        "\n",
        "# Filter rows to focus on attacks only since 1940\n",
        "sharks_df = sharks_df[sharks_df[\"Year\"] >= 1940]\n",
        "\n",
        "# Group attacks by year\n",
        "attacks_per_year = sharks_df.groupby(\"Year\").size()\n",
        "\n",
        "print(attacks_per_year.head())\n",
        "print(attacks_per_year.tail())\n",
        "# The attacks seem to be increasing since 1940 from the 20s-30s to the 100s in recent years. "
      ]
    },
    {
      "cell_type": "markdown",
      "id": "833df0fd",
      "metadata": {},
      "source": [
        "4. Clean the Age variable and make a histogram of the ages of the victims."
      ]
    },
    {
      "cell_type": "code",
      "execution_count": 10,
      "id": "c93ecd69",
      "metadata": {},
      "outputs": [
        {
          "data": {
            "text/plain": [
              "<Axes: xlabel='Age', ylabel='Count'>"
            ]
          },
          "execution_count": 10,
          "metadata": {},
          "output_type": "execute_result"
        },
        {
          "data": {
            "image/png": "[encoded data removed]",
            "text/plain": [
              "<Figure size 640x480 with 1 Axes>"
            ]
          },
          "metadata": {},
          "output_type": "display_data"
        }
      ],
      "source": [
        "import matplotlib as plt \n",
        "import seaborn as sns\n",
        "import numpy as np\n",
        "\n",
        "sharks_df[\"Age\"] = pd.to_numeric(sharks_df[\"Age\"], errors=\"coerce\").dropna().astype(int)\n",
        "\n",
        "sns.histplot(sharks_df[\"Age\"])"
      ]
    },
    {
      "cell_type": "markdown",
      "id": "cd14953b",
      "metadata": {},
      "source": [
        "5. What proportion of victims are male?"
      ]
    },
    {
      "cell_type": "code",
      "execution_count": 11,
      "id": "70b5e49b",
      "metadata": {},
      "outputs": [
        {
          "name": "stdout",
          "output_type": "stream",
          "text": [
            "Sex\n",
            "M    4299\n",
            "F     706\n",
            "Name: count, dtype: int64\n",
            "Proportion of Male Victims: 0.858941058941059\n"
          ]
        }
      ],
      "source": [
        "sharks_df[\"Sex\"] = sharks_df[\"Sex\"].replace({\n",
        "    \"lli\": np.nan, \n",
        "    \"M x 2\": \"M\", \n",
        "    \" M\": \"M\", \n",
        "    \"M \": \"M\"\n",
        "    })\n",
        "\n",
        "print(sharks_df[\"Sex\"].value_counts())\n",
        "\n",
        "M = (sharks_df[\"Sex\"] == \"M\").sum()\n",
        "F = (sharks_df[\"Sex\"] == \"F\").sum()\n",
        "print(\"Proportion of Male Victims:\", M/(M+F))\n"
      ]
    },
    {
      "cell_type": "markdown",
      "id": "5e7b289d",
      "metadata": {},
      "source": [
        "6. Clean the `Type` variable so it only takes three values: Provoked and Unprovoked and Unknown. What proportion of attacks are unprovoked?"
      ]
    },
    {
      "cell_type": "code",
      "execution_count": 12,
      "id": "7c50e7a9",
      "metadata": {},
      "outputs": [
        {
          "name": "stdout",
          "output_type": "stream",
          "text": [
            "Unprovoked Proportion: 0.7429461341150605\n"
          ]
        }
      ],
      "source": [
        "sharks_df[\"Type\"] = sharks_df[\"Type\"] = sharks_df[\"Type\"].replace({\n",
        "    \" Provoked\": \"Provoked\", \n",
        "    \"Questionable\": \"Unknown\",\n",
        "    \"?\": \"Unknown\",\n",
        "    \"Unconfirmed\": \"Unknown\",\n",
        "    \"Unverified\": \"Unknown\",\n",
        "    \"Invalid\": \"Unknown\",\n",
        "    \"Under investigation\": \"Unknown\",\n",
        "    \"Boat\": \"Unknown\",\n",
        "    \"Watercraft\": \"Unknown\",\n",
        "    \"Sea Disaster\": \"Unknown\"\n",
        "}).fillna(\"Unknown\")\n",
        "sharks_df[\"Type\"].unique()\n",
        "\n",
        "Unprovoked = (sharks_df[\"Type\"] == \"Unprovoked\").sum()\n",
        "Provoked = (sharks_df[\"Type\"] == \"Provoked\").sum()\n",
        "Unknown = (sharks_df[\"Type\"] == \"Unknown\").sum()\n",
        "\n",
        "Unprovoked_Proportion = Unprovoked/(Unprovoked+Provoked+Unknown)\n",
        "print(\"Unprovoked Proportion:\", Unprovoked_Proportion)"
      ]
    },
    {
      "cell_type": "markdown",
      "id": "21ff2405",
      "metadata": {},
      "source": [
        "7. Clean the `Fatal Y/N` variable so it only takes three values: Y, N, and Unknown."
      ]
    },
    {
      "cell_type": "code",
      "execution_count": 13,
      "id": "92f817cc",
      "metadata": {},
      "outputs": [
        {
          "data": {
            "text/plain": [
              "array(['N', 'Y', 'F', 'M', nan, 'n', 'Nq', 'UNKNOWN', 2017, 'Y x 2', ' N'],\n",
              "      dtype=object)"
            ]
          },
          "execution_count": 13,
          "metadata": {},
          "output_type": "execute_result"
        }
      ],
      "source": [
        "sharks_df[\"Fatal Y/N\"].unique()"
      ]
    },
    {
      "cell_type": "code",
      "execution_count": 14,
      "id": "48652f60",
      "metadata": {},
      "outputs": [],
      "source": [
        "\n",
        "sharks_df[\"Fatal Y/N\"] = sharks_df[\"Fatal Y/N\"].replace({\n",
        "    \"F\": \"Unknown\",\n",
        "    \"M\": \"Unknown\",\n",
        "    \"n\": \"N\",\n",
        "    \"Nq\": \"N\",\n",
        "    \"UNKNOWN\": \"Unknown\",\n",
        "    2017: \"Unknown\",\n",
        "    \"Y x 2\" : \"Y\",\n",
        "    \" N\" : \"N\"\n",
        " }).fillna(\"Unknown\")"
      ]
    },
    {
      "cell_type": "markdown",
      "id": "72ed5630",
      "metadata": {},
      "source": [
        "8. Are sharks more likely to launch unprovoked attacks on men or women? Is the attack more or less likely to be fatal when the attack is provoked or unprovoked? Is it more or less likely to be fatal when the victim is male or female? How do you feel about sharks?"
      ]
    },
    {
      "cell_type": "code",
      "execution_count": 15,
      "id": "ee06aa28",
      "metadata": {},
      "outputs": [
        {
          "data": {
            "text/html": [
              "<div>\n",
              "<style scoped>\n",
              "    .dataframe tbody tr th:only-of-type {\n",
              "        vertical-align: middle;\n",
              "    }\n",
              "\n",
              "    .dataframe tbody tr th {\n",
              "        vertical-align: top;\n",
              "    }\n",
              "\n",
              "    .dataframe thead th {\n",
              "        text-align: right;\n",
              "    }\n",
              "</style>\n",
              "<table border=\"1\" class=\"dataframe\">\n",
              "  <thead>\n",
              "    <tr style=\"text-align: right;\">\n",
              "      <th>Sex</th>\n",
              "      <th>F</th>\n",
              "      <th>M</th>\n",
              "    </tr>\n",
              "    <tr>\n",
              "      <th>Type</th>\n",
              "      <th></th>\n",
              "      <th></th>\n",
              "    </tr>\n",
              "  </thead>\n",
              "  <tbody>\n",
              "    <tr>\n",
              "      <th>Provoked</th>\n",
              "      <td>28</td>\n",
              "      <td>446</td>\n",
              "    </tr>\n",
              "    <tr>\n",
              "      <th>Unknown</th>\n",
              "      <td>78</td>\n",
              "      <td>540</td>\n",
              "    </tr>\n",
              "    <tr>\n",
              "      <th>Unprovoked</th>\n",
              "      <td>600</td>\n",
              "      <td>3313</td>\n",
              "    </tr>\n",
              "  </tbody>\n",
              "</table>\n",
              "</div>"
            ],
            "text/plain": [
              "Sex           F     M\n",
              "Type                 \n",
              "Provoked     28   446\n",
              "Unknown      78   540\n",
              "Unprovoked  600  3313"
            ]
          },
          "metadata": {},
          "output_type": "display_data"
        },
        {
          "name": "stdout",
          "output_type": "stream",
          "text": [
            "Total Female Attacks: 706\n",
            "Unprovoked Female Attacks: 600\n",
            "Proportion of Unprovoked Female Attacks: 0.8498583569405099\n",
            "Total Male Attacks: 4299\n",
            "Unprovoked Male Attacks: 3313\n",
            "Proportion of Unprovoked Male Attacks: 0.7706443358920679\n"
          ]
        }
      ],
      "source": [
        "cross_tab_type_sex = pd.crosstab(sharks_df[\"Type\"], sharks_df[\"Sex\"])\n",
        "display(cross_tab_type_sex)\n",
        "\n",
        "# Sum all Female attack cases\n",
        "total_female_attacks = cross_tab_type_sex[\"F\"].sum()\n",
        "\n",
        "# Get the number of Unprovoked Female attacks\n",
        "unprovoked_female_attacks = cross_tab_type_sex.loc[\"Unprovoked\", \"F\"]\n",
        "\n",
        "# Compute the proportion\n",
        "prob_female_unprovoked = unprovoked_female_attacks / total_female_attacks\n",
        "\n",
        "# Print result\n",
        "print(\"Total Female Attacks:\", total_female_attacks)\n",
        "print(\"Unprovoked Female Attacks:\", unprovoked_female_attacks)\n",
        "print(\"Proportion of Unprovoked Female Attacks:\", prob_female_unprovoked)\n",
        "\n",
        "# Sum all Male attack cases\n",
        "total_male_attacks = cross_tab_type_sex[\"M\"].sum()\n",
        "\n",
        "# Get the number of Unprovoked Female attacks\n",
        "unprovoked_male_attacks = cross_tab_type_sex.loc[\"Unprovoked\", \"M\"]\n",
        "\n",
        "# Compute the proportion\n",
        "prob_male_unprovoked = unprovoked_male_attacks / total_male_attacks\n",
        "\n",
        "# Print result\n",
        "print(\"Total Male Attacks:\", total_male_attacks)\n",
        "print(\"Unprovoked Male Attacks:\", unprovoked_male_attacks)\n",
        "print(\"Proportion of Unprovoked Male Attacks:\", prob_male_unprovoked)\n",
        "\n",
        "# Although shark attacks are more frequent among men, the conditional probability of an attack being unprovoked is higher for women than men."
      ]
    },
    {
      "cell_type": "code",
      "execution_count": 24,
      "id": "2345b3f8",
      "metadata": {},
      "outputs": [
        {
          "data": {
            "text/html": [
              "<div>\n",
              "<style scoped>\n",
              "    .dataframe tbody tr th:only-of-type {\n",
              "        vertical-align: middle;\n",
              "    }\n",
              "\n",
              "    .dataframe tbody tr th {\n",
              "        vertical-align: top;\n",
              "    }\n",
              "\n",
              "    .dataframe thead th {\n",
              "        text-align: right;\n",
              "    }\n",
              "</style>\n",
              "<table border=\"1\" class=\"dataframe\">\n",
              "  <thead>\n",
              "    <tr style=\"text-align: right;\">\n",
              "      <th>Fatal Y/N</th>\n",
              "      <th>N</th>\n",
              "      <th>Unknown</th>\n",
              "      <th>Y</th>\n",
              "    </tr>\n",
              "    <tr>\n",
              "      <th>Type</th>\n",
              "      <th></th>\n",
              "      <th></th>\n",
              "      <th></th>\n",
              "    </tr>\n",
              "  </thead>\n",
              "  <tbody>\n",
              "    <tr>\n",
              "      <th>Provoked</th>\n",
              "      <td>496</td>\n",
              "      <td>9</td>\n",
              "      <td>13</td>\n",
              "    </tr>\n",
              "    <tr>\n",
              "      <th>Unknown</th>\n",
              "      <td>366</td>\n",
              "      <td>399</td>\n",
              "      <td>120</td>\n",
              "    </tr>\n",
              "    <tr>\n",
              "      <th>Unprovoked</th>\n",
              "      <td>3325</td>\n",
              "      <td>51</td>\n",
              "      <td>679</td>\n",
              "    </tr>\n",
              "  </tbody>\n",
              "</table>\n",
              "</div>"
            ],
            "text/plain": [
              "Fatal Y/N      N  Unknown    Y\n",
              "Type                          \n",
              "Provoked     496        9   13\n",
              "Unknown      366      399  120\n",
              "Unprovoked  3325       51  679"
            ]
          },
          "metadata": {},
          "output_type": "display_data"
        },
        {
          "name": "stdout",
          "output_type": "stream",
          "text": [
            "Total Fatal Attacks: 812\n",
            "Unprovoked Fatal Attacks: 679\n",
            "Proportion of Unprovoked Fatal Attacks: 0.8362068965517241\n",
            "Provoked Fatal Attacks: 13\n",
            "Proportion of Provoked Fatal Attacks: 0.01600985221674877\n"
          ]
        }
      ],
      "source": [
        "cross_tab_type_fatal = pd.crosstab(sharks_df[\"Type\"], sharks_df[\"Fatal Y/N\"])\n",
        "display(cross_tab_type_fatal)\n",
        "\n",
        "# Sum all Fatal attack cases\n",
        "total_fatal_attacks = cross_tab_type_fatal[\"Y\"].sum()\n",
        "\n",
        "# Get the number of Unprovoked Fatal attacks\n",
        "unprovoked_fatal_attacks = cross_tab_type_fatal.loc[\"Unprovoked\", \"Y\"]\n",
        "\n",
        "# Compute the proportion\n",
        "prob_fatal_unprovoked = unprovoked_fatal_attacks / total_fatal_attacks\n",
        "\n",
        "print(\"Total Fatal Attacks:\", total_fatal_attacks)\n",
        "print(\"Unprovoked Fatal Attacks:\", unprovoked_fatal_attacks)\n",
        "print(\"Proportion of Unprovoked Fatal Attacks:\", prob_fatal_unprovoked)\n",
        "\n",
        "# Get the number of Provoked Fatal attacks\n",
        "provoked_fatal_attacks = cross_tab_type_fatal.loc[\"Provoked\", \"Y\"]\n",
        "\n",
        "# Compute the proportion\n",
        "prob_fatal_provoked = provoked_fatal_attacks / total_fatal_attacks\n",
        "\n",
        "print(\"Provoked Fatal Attacks:\", provoked_fatal_attacks)\n",
        "print(\"Proportion of Provoked Fatal Attacks:\", prob_fatal_provoked)\n",
        "# Attacks are more likely to be fatal when unprovoked."
      ]
    },
    {
      "cell_type": "code",
      "execution_count": 30,
      "id": "27b4550c",
      "metadata": {},
      "outputs": [
        {
          "data": {
            "text/html": [
              "<div>\n",
              "<style scoped>\n",
              "    .dataframe tbody tr th:only-of-type {\n",
              "        vertical-align: middle;\n",
              "    }\n",
              "\n",
              "    .dataframe tbody tr th {\n",
              "        vertical-align: top;\n",
              "    }\n",
              "\n",
              "    .dataframe thead th {\n",
              "        text-align: right;\n",
              "    }\n",
              "</style>\n",
              "<table border=\"1\" class=\"dataframe\">\n",
              "  <thead>\n",
              "    <tr style=\"text-align: right;\">\n",
              "      <th>Sex</th>\n",
              "      <th>F</th>\n",
              "      <th>M</th>\n",
              "    </tr>\n",
              "    <tr>\n",
              "      <th>Fatal Y/N</th>\n",
              "      <th></th>\n",
              "      <th></th>\n",
              "    </tr>\n",
              "  </thead>\n",
              "  <tbody>\n",
              "    <tr>\n",
              "      <th>N</th>\n",
              "      <td>561</td>\n",
              "      <td>3328</td>\n",
              "    </tr>\n",
              "    <tr>\n",
              "      <th>Unknown</th>\n",
              "      <td>58</td>\n",
              "      <td>322</td>\n",
              "    </tr>\n",
              "    <tr>\n",
              "      <th>Y</th>\n",
              "      <td>87</td>\n",
              "      <td>649</td>\n",
              "    </tr>\n",
              "  </tbody>\n",
              "</table>\n",
              "</div>"
            ],
            "text/plain": [
              "Sex          F     M\n",
              "Fatal Y/N           \n",
              "N          561  3328\n",
              "Unknown     58   322\n",
              "Y           87   649"
            ]
          },
          "metadata": {},
          "output_type": "display_data"
        },
        {
          "name": "stdout",
          "output_type": "stream",
          "text": [
            "Total Fatal Attacks: 736\n",
            "Fatal Male Attacks: 649\n",
            "Probability of Fatal Male Attacks: 0.8817934782608695\n",
            "Fatal Female Attacks: 87\n",
            "Probability of Fatal Male Attacks: 0.11820652173913043\n"
          ]
        }
      ],
      "source": [
        "cross_tab_fatal_sex = pd.crosstab(sharks_df[\"Fatal Y/N\"], sharks_df[\"Sex\"])\n",
        "display(cross_tab_fatal_sex)\n",
        "\n",
        "# Sum all Fatal attack cases\n",
        "total_fatal_attacks = cross_tab_fatal_sex.loc[\"Y\"].sum()\n",
        "\n",
        "# Get the number of Fatal Male attacks\n",
        "fatal_male_attacks = cross_tab_fatal_sex.loc[\"Y\", \"M\"]\n",
        "\n",
        "# Compute the proportion\n",
        "prob_fatal_male = fatal_male_attacks / total_fatal_attacks\n",
        "\n",
        "print(\"Total Fatal Attacks:\", total_fatal_attacks)\n",
        "print(\"Fatal Male Attacks:\", fatal_male_attacks)\n",
        "print(\"Probability of Fatal Male Attacks:\", prob_fatal_male)\n",
        "\n",
        "# Get the number of Fatal Female attacks\n",
        "fatal_female_attacks = cross_tab_fatal_sex.loc[\"Y\", \"F\"]\n",
        "\n",
        "# Compute the proportion\n",
        "prob_fatal_female = fatal_female_attacks / total_fatal_attacks\n",
        "\n",
        "print(\"Fatal Female Attacks:\", fatal_female_attacks)\n",
        "print(\"Probability of Fatal Male Attacks:\", prob_fatal_female)\n",
        "\n",
        "# Fatal attacks are more likely for female compared to male."
      ]
    },
    {
      "cell_type": "code",
      "execution_count": null,
      "id": "877221e3",
      "metadata": {},
      "outputs": [],
      "source": [
        "# Based on this data and prior knowledge, I don't really like sharks as they seem fairly agressive no matter what. Considering that more unprovoked attacks are fatal, this makes me like them even less as they kill without warning."
      ]
    },
    {
      "cell_type": "markdown",
      "id": "4992f104",
      "metadata": {},
      "source": [
        "9. What proportion of attacks appear to be by white sharks? (Hint: `str.split()` makes a vector of text values into a list of lists, split by spaces.)"
      ]
    },
    {
      "cell_type": "code",
      "execution_count": 16,
      "id": "c698c88a",
      "metadata": {},
      "outputs": [
        {
          "name": "stdout",
          "output_type": "stream",
          "text": [
            "Index(['Date', 'Year', 'Type', 'Country', 'State', 'Location', 'Activity',\n",
            "       'Name', 'Sex', 'Age', 'Injury', 'Fatal Y/N', 'Time', 'Species ',\n",
            "       'Source'],\n",
            "      dtype='object')\n"
          ]
        }
      ],
      "source": [
        "print(sharks_df.columns)  # Check available columns\n"
      ]
    },
    {
      "cell_type": "code",
      "execution_count": 17,
      "id": "fbd5f9b2",
      "metadata": {},
      "outputs": [
        {
          "data": {
            "text/html": [
              "<div>\n",
              "<style scoped>\n",
              "    .dataframe tbody tr th:only-of-type {\n",
              "        vertical-align: middle;\n",
              "    }\n",
              "\n",
              "    .dataframe tbody tr th {\n",
              "        vertical-align: top;\n",
              "    }\n",
              "\n",
              "    .dataframe thead th {\n",
              "        text-align: right;\n",
              "    }\n",
              "</style>\n",
              "<table border=\"1\" class=\"dataframe\">\n",
              "  <thead>\n",
              "    <tr style=\"text-align: right;\">\n",
              "      <th>Type</th>\n",
              "      <th>Provoked</th>\n",
              "      <th>Unknown</th>\n",
              "      <th>Unprovoked</th>\n",
              "      <th>Total</th>\n",
              "    </tr>\n",
              "    <tr>\n",
              "      <th>Species</th>\n",
              "      <th></th>\n",
              "      <th></th>\n",
              "      <th></th>\n",
              "      <th></th>\n",
              "    </tr>\n",
              "  </thead>\n",
              "  <tbody>\n",
              "    <tr>\n",
              "      <th>\"A</th>\n",
              "      <td>2</td>\n",
              "      <td>0</td>\n",
              "      <td>5</td>\n",
              "      <td>7</td>\n",
              "    </tr>\n",
              "    <tr>\n",
              "      <th>\"Attacked</th>\n",
              "      <td>0</td>\n",
              "      <td>0</td>\n",
              "      <td>1</td>\n",
              "      <td>1</td>\n",
              "    </tr>\n",
              "    <tr>\n",
              "      <th>\"Blue</th>\n",
              "      <td>1</td>\n",
              "      <td>0</td>\n",
              "      <td>0</td>\n",
              "      <td>1</td>\n",
              "    </tr>\n",
              "    <tr>\n",
              "      <th>\"Dog</th>\n",
              "      <td>0</td>\n",
              "      <td>0</td>\n",
              "      <td>1</td>\n",
              "      <td>1</td>\n",
              "    </tr>\n",
              "    <tr>\n",
              "      <th>\"Reef</th>\n",
              "      <td>0</td>\n",
              "      <td>0</td>\n",
              "      <td>1</td>\n",
              "      <td>1</td>\n",
              "    </tr>\n",
              "    <tr>\n",
              "      <th>...</th>\n",
              "      <td>...</td>\n",
              "      <td>...</td>\n",
              "      <td>...</td>\n",
              "      <td>...</td>\n",
              "    </tr>\n",
              "    <tr>\n",
              "      <th>sandtiger</th>\n",
              "      <td>0</td>\n",
              "      <td>0</td>\n",
              "      <td>1</td>\n",
              "      <td>1</td>\n",
              "    </tr>\n",
              "    <tr>\n",
              "      <th>shark</th>\n",
              "      <td>0</td>\n",
              "      <td>1</td>\n",
              "      <td>1</td>\n",
              "      <td>2</td>\n",
              "    </tr>\n",
              "    <tr>\n",
              "      <th>small</th>\n",
              "      <td>1</td>\n",
              "      <td>0</td>\n",
              "      <td>18</td>\n",
              "      <td>19</td>\n",
              "    </tr>\n",
              "    <tr>\n",
              "      <th>unknown,</th>\n",
              "      <td>0</td>\n",
              "      <td>1</td>\n",
              "      <td>0</td>\n",
              "      <td>1</td>\n",
              "    </tr>\n",
              "    <tr>\n",
              "      <th>“small</th>\n",
              "      <td>0</td>\n",
              "      <td>0</td>\n",
              "      <td>1</td>\n",
              "      <td>1</td>\n",
              "    </tr>\n",
              "  </tbody>\n",
              "</table>\n",
              "<p>294 rows × 4 columns</p>\n",
              "</div>"
            ],
            "text/plain": [
              "Type       Provoked  Unknown  Unprovoked  Total\n",
              "Species                                        \n",
              "\"A                2        0           5      7\n",
              "\"Attacked         0        0           1      1\n",
              "\"Blue             1        0           0      1\n",
              "\"Dog              0        0           1      1\n",
              "\"Reef             0        0           1      1\n",
              "...             ...      ...         ...    ...\n",
              "sandtiger         0        0           1      1\n",
              "shark             0        1           1      2\n",
              "small             1        0          18     19\n",
              "unknown,          0        1           0      1\n",
              "“small            0        0           1      1\n",
              "\n",
              "[294 rows x 4 columns]"
            ]
          },
          "metadata": {},
          "output_type": "display_data"
        },
        {
          "name": "stdout",
          "output_type": "stream",
          "text": [
            "Proportion of attacks from White Sharks: 0.08515323912644522\n"
          ]
        }
      ],
      "source": [
        "# 9. What proportion of attacks appear to be by white sharks? (Hint: `str.split()` makes a vector of text values into a list of lists, split by spaces.)\n",
        "\n",
        "sharks_df.rename(columns={\"Species \": \"Species\"}, inplace=True)\n",
        "\n",
        "sharks_df[\"Species\"] = sharks_df[\"Species\"].astype(str).str.split().str.get(0)\n",
        "sharks_df[\"Species\"] = sharks_df[\"Species\"].replace(\"white\", \"White\")\n",
        "\n",
        "cross_tab_species_type = pd.crosstab(sharks_df[\"Species\"], sharks_df[\"Type\"])\n",
        "cross_tab_species_type[\"Total\"] = cross_tab_species_type.sum(axis=1)\n",
        "display(cross_tab_species_type)\n",
        "\n",
        "white_shark_attacks = (sharks_df[\"Species\"] == \"White\").sum() / cross_tab_species_type[\"Total\"].sum()\n",
        "\n",
        "print(\"Proportion of attacks from White Sharks:\", white_shark_attacks)"
      ]
    },
    {
      "cell_type": "markdown",
      "id": "5735a4d4-8be8-433a-a351-70eb8002e632",
      "metadata": {
        "id": "5735a4d4-8be8-433a-a351-70eb8002e632"
      },
      "source": [
        "**Q3.** Open the \"tidy_data.pdf\" document in the repo, which is a paper called Tidy Data by Hadley Wickham.\n",
        "\n",
        "  1. Read the abstract. What is this paper about?\n",
        "  2. Read the introduction. What is the \"tidy data standard\" intended to accomplish?\n",
        "  3. Read the intro to section 2. What does this sentence mean: \"Like families, tidy datasets are all alike but every messy dataset is messy in its own way.\" What does this sentence mean: \"For a given dataset, it’s usually easy to figure out what are observations and what are variables, but it is surprisingly difficult to precisely define variables and observations in general.\"\n",
        "  4. Read Section 2.2. How does Wickham define values, variables, and observations?\n",
        "  5. How is \"Tidy Data\" defined in section 2.3?\n",
        "  6. Read the intro to Section 3 and Section 3.1. What are the 5 most common problems with messy datasets? Why are the data in Table 4 messy? What is \"melting\" a dataset?\n",
        "  7. Why, specifically, is table 11 messy but table 12 tidy and \"molten\"?\n",
        "  8. Read Section 6. What is the \"chicken-and-egg\" problem with focusing on tidy data? What does Wickham hope happens in the future with further work on the subject of data wrangling?"
      ]
    },
    {
      "cell_type": "markdown",
      "id": "649494cd-cfd6-4f80-992a-9994fc19e1d5",
      "metadata": {
        "id": "649494cd-cfd6-4f80-992a-9994fc19e1d5"
      },
      "source": [
        "**Q4.** Many important datasets contain a race variable, typically limited to a handful of values often including Black, White, Asian, Latino, and Indigenous. This question looks at data gathering efforts on this variable by the U.S. Federal government.\n",
        "\n",
        "1. How did the most recent US Census gather data on race?\n",
        "The most recent U.S. Census collected race data by asking people to identify their racial background. Individuals could select one or more races, including White, Black/African American, American Indian/Alaska Native, Asian, Native Hawaiian/Other Pacific Islander, or Some Other Race. Additionally, the Census asked a separate question about Hispanic, Latino, or Spanish origin, recognizing it as an ethnicity rather than a race.\n",
        "\n",
        "2. Why do we gather these data? What role do these kinds of data play in politics and society? Why does data quality matter?\n",
        "We gather this data to ensure fair representation in government and enforce laws. These data help communities receive certain funding or gain insight into demographic trends. Data quality matters because inaccurate data can lead to unfair distribution of resources and social inequality throughout the country.\n",
        "\n",
        "3. Please provide a constructive criticism of how the Census was conducted: What was done well? What do you think was missing? How should future large scale surveys be adjusted to best reflect the diversity of the population? Could some of the Census' good practices be adopted more widely to gather richer and more useful data?\n",
        "The Census did well in collecting data in a concise matter that grouped individuals into easy to understand categories. However, the Census could have done better by including more categories for individuals of specific races other than just grouping them into groups such as \"Other Pacific Islander\" or \"Some Other Race\". Including more groups could offer insight into the diversity of the population and help communities receive more accurate representation.\n",
        "\n",
        "4. How did the Census gather data on sex and gender? Please provide a similar constructive criticism of their practices.\n",
        "The Census gathered data on sex and gender by asking individuals to identify as male or female and not providing options for other gender identities such as non-binary. The Census does not account for gender diversity and may result in individuals being underrepresented in the data. The census could improve by including questions such as assigned gender at birth and current gender identification to provide more inclusive and accurate data.\n",
        "\n",
        "5. When it comes to cleaning data, what concerns do you have about protected characteristics like sex, gender, sexual identity, or race? What challenges can you imagine arising when there are missing values? What good or bad practices might people adopt, and why?\n",
        "With people having a diverse amount of races or gender identities, this could lead to problems with cleaning data as some individuals may not fit into the categories provided. Having people fill in their identity could lead to a lot of values that would be difficult to clean. Some may group individuals wrongly when cleaning data which could lead to inaccuracies.\n",
        "\n",
        "6. Suppose someone invented an algorithm to impute values for protected characteristics like race, gender, sex, or sexuality. What kinds of concerns would you have?\n",
        "An algorithm like this could lead to bias if it relies on discriminatory data which would misclassify individuals. Imputing values such as these could lead to privacy concerns as individuals should have control over how their identities are recorded. Such inaccuracies could lead to flawed funding or policy decisions. Such algorithms could lead to misuse and harm several underrepresented groups."
      ]
    }
  ],
  "metadata": {
    "colab": {
      "provenance": []
    },
    "kernelspec": {
      "display_name": "3.9.16",
      "language": "python",
      "name": "python3"
    },
    "language_info": {
      "codemirror_mode": {
        "name": "ipython",
        "version": 3
      },
      "file_extension": ".py",
      "mimetype": "text/x-python",
      "name": "python",
      "nbconvert_exporter": "python",
      "pygments_lexer": "ipython3",
      "version": "3.9.16"
    }
  },
  "nbformat": 4,
  "nbformat_minor": 5
}
